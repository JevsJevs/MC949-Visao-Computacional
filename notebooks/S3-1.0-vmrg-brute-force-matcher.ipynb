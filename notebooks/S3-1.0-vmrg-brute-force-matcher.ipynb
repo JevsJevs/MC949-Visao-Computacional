{
 "cells": [
  {
   "cell_type": "markdown",
   "id": "ab8ae3da",
   "metadata": {},
   "source": [
    "Brute Force Matcher para emparelhamento de imagens do panorama"
   ]
  },
  {
   "cell_type": "code",
   "execution_count": 1,
   "id": "bdb74169",
   "metadata": {},
   "outputs": [],
   "source": [
    "from src.utils import image_utils\n",
    "from src.utils import notebook_utils\n",
    "\n",
    "from src.process import feature_extraction\n",
    "import cv2\n",
    "import matplotlib.pyplot as plt\n",
    "import numpy as np"
   ]
  },
  {
   "cell_type": "code",
   "execution_count": null,
   "id": "01d7b560-773a-4f9f-a86f-234a4a7e7197",
   "metadata": {},
   "outputs": [],
   "source": [
    "Carregando imagens de PanoramaWebDataset e aplicando Brute Force Matcher. Após isso, os matches são aplicados, e o ratio test filtra os melhores. As imagens de match são salvas."
   ]
  },
  {
   "cell_type": "code",
   "execution_count": 2,
   "id": "daa7722d",
   "metadata": {},
   "outputs": [
    {
     "name": "stdout",
     "output_type": "stream",
     "text": [
      "Imagem 0 -> 1: 564 matches encontrados\n",
      "Imagem 0 salva\n",
      "Imagem 1 -> 2: 511 matches encontrados\n",
      "Imagem 1 salva\n",
      "Imagem 2 -> 3: 656 matches encontrados\n",
      "Imagem 2 salva\n",
      "Imagem 3 -> 4: 844 matches encontrados\n",
      "Imagem 3 salva\n",
      "Imagem 4 -> 5: 916 matches encontrados\n",
      "Imagem 4 salva\n"
     ]
    }
   ],
   "source": [
    "images = image_utils.load_raw_images(\"PanoramaWebDataset\")\n",
    "\n",
    "panorama_images = []\n",
    "for i in range(1, 7):  # Loads imagens from database (1~6)\n",
    "    panorama_images.append(images[f\"{i}\"])\n",
    "\n",
    "bf = cv2.BFMatcher() \n",
    "\n",
    "for i in range(0,len(panorama_images)-1):\n",
    "    img1 = panorama_images[i] # Get actual and next image to find matches\n",
    "    img2 = panorama_images[i+1]\n",
    "\n",
    "    kp1, des1 = feature_extraction.AKAZE(img1) # Using AKAZE to find keypoints\n",
    "    kp2, des2 = feature_extraction.AKAZE(img2)\n",
    "\n",
    "    matches = bf.knnMatch(des1, des2, k=2) # Find matches with images descriptor, the k=2 argument defines the 2 best matches\n",
    "\n",
    "    good_matches = []\n",
    "    for m, n in matches:\n",
    "        if m.distance < 0.75 * n.distance: # Applying ratio test to find the best matches\n",
    "            good_matches.append(m)\n",
    "\n",
    "    print(f\"Imagem {i} -> {i+1}: {len(good_matches)} matches encontrados\")\n",
    "\n",
    "    img_matches = cv2.drawMatches(img1, kp1, img2, kp2, good_matches, None, flags=2)\n",
    "\n",
    "    if len(good_matches) > 10:\n",
    "        success = image_utils.save_image(img_matches, f\"match_{i}\", path = \"interim\", img_format=\"jpg\")\n",
    "        print(f\"Imagem {i} salva\")"
   ]
  }
 ],
 "metadata": {
  "kernelspec": {
   "display_name": "Python 3 (ipykernel)",
   "language": "python",
   "name": "python3"
  },
  "language_info": {
   "codemirror_mode": {
    "name": "ipython",
    "version": 3
   },
   "file_extension": ".py",
   "mimetype": "text/x-python",
   "name": "python",
   "nbconvert_exporter": "python",
   "pygments_lexer": "ipython3",
   "version": "3.13.7"
  }
 },
 "nbformat": 4,
 "nbformat_minor": 5
}
