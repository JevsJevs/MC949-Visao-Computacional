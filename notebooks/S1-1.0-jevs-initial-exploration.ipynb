{
 "cells": [
  {
   "cell_type": "markdown",
   "id": "1ac4bfd6",
   "metadata": {},
   "source": [
    "# Initial Exploration by JevsJevs"
   ]
  }
 ],
 "metadata": {
  "language_info": {
   "name": "python"
  }
 },
 "nbformat": 4,
 "nbformat_minor": 5
}
