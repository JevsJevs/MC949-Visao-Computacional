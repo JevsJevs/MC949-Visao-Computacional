{
 "cells": [
  {
   "cell_type": "markdown",
   "id": "8032aab9",
   "metadata": {},
   "source": [
    "# Video sampling\n",
    "Este notebook tem por objetivo amostrar os frames dos videos gravados dos objetos. Os frames são amostrados em espaçamento igual no vídeo.\n",
    "\n",
    "Foram gravados 5 objetos\n",
    "\n",
    "- barco_miniatura: superfície regular, buracos na estrutura. Pode ser desafiador\n",
    "- estatua: superficie irregular e reflexiva, objeto assimétrico. Provavelmente o mais desafiador\n",
    "- galinha_honduras: superficie regular e texturizada. Provavelmente o mais fácil\n",
    "- menino_porteira: superfície regular, buracos na estrutura. Pode ser desafiador\n",
    "- msc_grandiosa_miniatura: superficie irregular, grande nível de detalhes. Pode ser desafiador\n",
    "\n",
    "O fundo escolhido foi um fundo florido, por ser texturizado e não ter repetições, o que ajuda os detectores de características a construir o match correto entre as imagens"
   ]
  },
  {
   "cell_type": "code",
   "execution_count": 2,
   "id": "9a450f04",
   "metadata": {},
   "outputs": [
    {
     "data": {
      "text/plain": [
       "['estatua.mp4',\n",
       " 'menino_porteira.mp4',\n",
       " 'msc_grandiosa_miniatura.mp4',\n",
       " 'barco_miniatura.mp4',\n",
       " 'galinha_honduras.mp4']"
      ]
     },
     "execution_count": 2,
     "metadata": {},
     "output_type": "execute_result"
    }
   ],
   "source": [
    "import cv2\n",
    "from pathlib import Path\n",
    "import os\n",
    "import numpy as np\n",
    "\n",
    "NUM_IMAGES = 100\n",
    "VIDEOS_FOLDER = Path(\"../../data/T2/raw/videos\")\n",
    "\n",
    "os.listdir(VIDEOS_FOLDER)"
   ]
  },
  {
   "cell_type": "code",
   "execution_count": 3,
   "id": "73e77c9b",
   "metadata": {},
   "outputs": [],
   "source": [
    "def sample_video_frames(video_path: str, num_frames: int) -> list[np.ndarray]:\n",
    "    \"\"\"\n",
    "    Sample equally spaced frames from a video.\n",
    "\n",
    "    Args:\n",
    "        video_path: Path to the video file.\n",
    "        num_frames: Number of frames to sample.\n",
    "\n",
    "    Returns:\n",
    "        A list of frames (as NumPy arrays in BGR format).\n",
    "    \"\"\"\n",
    "    cap = cv2.VideoCapture(video_path)\n",
    "    if not cap.isOpened():\n",
    "        raise IOError(f\"Could not open video: {video_path}\")\n",
    "\n",
    "    total_frames = int(cap.get(cv2.CAP_PROP_FRAME_COUNT))\n",
    "\n",
    "    # Pick equally spaced frame indices\n",
    "    indices = np.linspace(0, total_frames - 1, num_frames, dtype=int)\n",
    "\n",
    "    frames: list[np.ndarray] = []\n",
    "    for idx in indices:\n",
    "        cap.set(cv2.CAP_PROP_POS_FRAMES, idx)  # jump to frame\n",
    "        ret, frame = cap.read()\n",
    "        if ret:\n",
    "            frames.append(frame)\n",
    "\n",
    "    cap.release()\n",
    "    return frames\n",
    "\n",
    "\n",
    "def save_sampled_frames(\n",
    "    frames: list[np.ndarray], \n",
    "    video_name: str, \n",
    "    output_dir: str = \".\"\n",
    ") -> str:\n",
    "    \"\"\"\n",
    "    Save sampled frames into a folder named after the video.\n",
    "\n",
    "    Args:\n",
    "        frames: List of frames (as NumPy arrays).\n",
    "        video_name: Name of the video file (used for folder name).\n",
    "        output_dir: Directory to store the folder.\n",
    "\n",
    "    Returns:\n",
    "        Path to the folder containing the saved frames.\n",
    "    \"\"\"\n",
    "    # Remove extension from video name\n",
    "    base_name = os.path.splitext(os.path.basename(video_name))[0]\n",
    "    \n",
    "    # Create folder\n",
    "    folder_path = os.path.join(output_dir, base_name)\n",
    "    os.makedirs(folder_path, exist_ok=True)\n",
    "\n",
    "    # Save frames\n",
    "    for i, frame in enumerate(frames, start=1):\n",
    "        filename = os.path.join(folder_path, f\"{i}.jpg\")\n",
    "        cv2.imwrite(filename, frame)\n",
    "\n",
    "    print(f\"Saved {len(frames)} frames to '{folder_path}'\")\n",
    "    return folder_path"
   ]
  },
  {
   "cell_type": "code",
   "execution_count": 4,
   "id": "209d7879",
   "metadata": {},
   "outputs": [
    {
     "name": "stdout",
     "output_type": "stream",
     "text": [
      "Saved 100 frames to '../../data/T2/raw/videos/../../interim/estatua'\n",
      "Sucesso salvando frames em ../../data/T2/raw/videos/../../interim/estatua\n",
      "Saved 100 frames to '../../data/T2/raw/videos/../../interim/menino_porteira'\n",
      "Sucesso salvando frames em ../../data/T2/raw/videos/../../interim/menino_porteira\n",
      "Saved 100 frames to '../../data/T2/raw/videos/../../interim/msc_grandiosa_miniatura'\n",
      "Sucesso salvando frames em ../../data/T2/raw/videos/../../interim/msc_grandiosa_miniatura\n",
      "Saved 100 frames to '../../data/T2/raw/videos/../../interim/barco_miniatura'\n",
      "Sucesso salvando frames em ../../data/T2/raw/videos/../../interim/barco_miniatura\n",
      "Saved 100 frames to '../../data/T2/raw/videos/../../interim/galinha_honduras'\n",
      "Sucesso salvando frames em ../../data/T2/raw/videos/../../interim/galinha_honduras\n"
     ]
    }
   ],
   "source": [
    "for video in os.listdir(VIDEOS_FOLDER):\n",
    "    path = VIDEOS_FOLDER / video\n",
    "    sampled_frames = sample_video_frames(path, NUM_IMAGES)\n",
    "    \n",
    "    # data interim folder\n",
    "    dest_folder = VIDEOS_FOLDER / \"..\" / \"..\" / \"interim\"\n",
    "    final_folder_path = save_sampled_frames(sampled_frames, video, dest_folder)\n",
    "    \n",
    "    print(\"Sucesso salvando frames em\", final_folder_path)"
   ]
  },
  {
   "cell_type": "code",
   "execution_count": 6,
   "id": "7bab6686",
   "metadata": {},
   "outputs": [
    {
     "data": {
      "text/plain": [
       "100"
      ]
     },
     "execution_count": 6,
     "metadata": {},
     "output_type": "execute_result"
    }
   ],
   "source": [
    "# teste se deu certo\n",
    "from canon.utils import image_utils\n",
    "len(image_utils.load_images(\"T2/interim/galinha_honduras\"))"
   ]
  }
 ],
 "metadata": {
  "kernelspec": {
   "display_name": ".venv",
   "language": "python",
   "name": "python3"
  },
  "language_info": {
   "codemirror_mode": {
    "name": "ipython",
    "version": 3
   },
   "file_extension": ".py",
   "mimetype": "text/x-python",
   "name": "python",
   "nbconvert_exporter": "python",
   "pygments_lexer": "ipython3",
   "version": "3.10.12"
  }
 },
 "nbformat": 4,
 "nbformat_minor": 5
}
